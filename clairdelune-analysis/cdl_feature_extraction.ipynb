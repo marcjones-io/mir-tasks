{
 "cells": [
  {
   "cell_type": "code",
   "execution_count": null,
   "metadata": {},
   "outputs": [],
   "source": [
    "# Clair De Lune Feature Extraction \n",
    "import essentia\n",
    "import essentia.standard as es\n",
    "\n",
    "# compute all features, aggregate only 'mean' and 'stdev' statistics for all low-level, rhythm and tonal frame features\n",
    "features, features_frames = es.MusicExtractor(lowlevelStats=['mean', 'stdev'],\n",
    "                                              rhythmStats=['mean', 'stdev'],\n",
    "                                              tonalStats=['mean', 'stdev'])('../clairdelune_tollier.mp3')\n",
    "\n",
    "# write extracted features to text output\n",
    "output_text = ''\n",
    "for descriptor in sorted(features.descriptorNames()):\n",
    "    output_text += descriptor + '\\n' + str(features[descriptor]) + '\\n\\n'\n",
    "outfile = open('cdl_extracted_features.txt', 'w')\n",
    "outfile.write(output_text)\n",
    "outfile.close()"
   ]
  },
  {
   "cell_type": "code",
   "execution_count": null,
   "metadata": {},
   "outputs": [],
   "source": [
    "# illustrate tonal features / hcpc\n",
    "# from : http://essentia.upf.edu/documentation/essentia_python_examples.html\n",
    "from pylab import plot, show, figure, imshow\n",
    "%matplotlib inline\n",
    "import matplotlib.pyplot as plt\n",
    "import numpy as np\n",
    "import essentia.streaming as ess\n",
    "\n",
    "# Initialize algorithms we will use\n",
    "loader = ess.MonoLoader(filename='../clairdelune_tollier.mp3')\n",
    "framecutter = ess.FrameCutter(frameSize=4096, hopSize=2048, silentFrames='noise')\n",
    "windowing = ess.Windowing(type='blackmanharris62')\n",
    "spectrum = ess.Spectrum()\n",
    "spectralpeaks = ess.SpectralPeaks(orderBy='magnitude',\n",
    "                                  magnitudeThreshold=0.00001,\n",
    "                                  minFrequency=20,\n",
    "                                  maxFrequency=3500,\n",
    "                                  maxPeaks=60)\n",
    "\n",
    "# Use default HPCP parameters for plots, however we will need higher resolution\n",
    "# and custom parameters for better Key estimation\n",
    "hpcp = ess.HPCP()\n",
    "hpcp_key = ess.HPCP(size=36, # we will need higher resolution for Key estimation\n",
    "                    referenceFrequency=440, # assume tuning frequency is 44100.\n",
    "                    bandPreset=False,\n",
    "                    minFrequency=20,\n",
    "                    maxFrequency=3500,\n",
    "                    weightType='cosine',\n",
    "                    nonLinear=False,\n",
    "                    windowSize=1.)\n",
    "\n",
    "key = ess.Key(profileType='temperley', # use the temperley algorithm as it is profiled from euroclassical music\n",
    "              numHarmonics=4,\n",
    "              pcpSize=36,\n",
    "              slope=0.6,\n",
    "              usePolyphony=True,\n",
    "              useThreeChords=True)\n",
    "\n",
    "# Use pool to store data\n",
    "pool = essentia.Pool()\n",
    "\n",
    "# Connect streaming algorithms\n",
    "loader.audio >> framecutter.signal\n",
    "framecutter.frame >> windowing.frame >> spectrum.frame\n",
    "spectrum.spectrum >> spectralpeaks.spectrum\n",
    "spectralpeaks.magnitudes >> hpcp.magnitudes\n",
    "spectralpeaks.frequencies >> hpcp.frequencies\n",
    "spectralpeaks.magnitudes >> hpcp_key.magnitudes\n",
    "spectralpeaks.frequencies >> hpcp_key.frequencies\n",
    "hpcp_key.hpcp >> key.pcp\n",
    "hpcp.hpcp >> (pool, 'tonal.hpcp')\n",
    "key.key >> (pool, 'tonal.key_key')\n",
    "key.scale >> (pool, 'tonal.key_scale')\n",
    "key.strength >> (pool, 'tonal.key_strength')\n",
    "\n",
    "# Run streaming network\n",
    "essentia.run(loader)"
   ]
  },
  {
   "cell_type": "code",
   "execution_count": null,
   "metadata": {},
   "outputs": [],
   "source": [
    "# Plot HPCP\n",
    "imshow(pool['tonal.hpcp'].T, aspect='auto', origin='lower', interpolation='none')\n",
    "plt.title(\"HPCPs in frames (the 0-th HPCP coefficient corresponds to A)\")\n",
    "show()\n",
    "print(\"Estimated key and scale:\", pool['tonal.key_key'] + \" \" + pool['tonal.key_scale'])"
   ]
  }
 ],
 "metadata": {
  "kernelspec": {
   "display_name": "Python 3",
   "language": "python",
   "name": "python3"
  },
  "language_info": {
   "codemirror_mode": {
    "name": "ipython",
    "version": 3
   },
   "file_extension": ".py",
   "mimetype": "text/x-python",
   "name": "python",
   "nbconvert_exporter": "python",
   "pygments_lexer": "ipython3",
   "version": "3.6.5"
  }
 },
 "nbformat": 4,
 "nbformat_minor": 2
}
